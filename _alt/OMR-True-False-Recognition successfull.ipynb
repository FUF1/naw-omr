{
  "nbformat": 4,
  "nbformat_minor": 0,
  "metadata": {
    "colab": {
      "name": "Test.ipynb",
      "provenance": [],
      "collapsed_sections": [],
      "mount_file_id": "1IznAmE2Qf7X5VCKEFtHpfRqeCdwrRJ7V",
      "authorship_tag": "ABX9TyPSh6KI/OwuPSw1WdwNRrD/",
      "include_colab_link": true
    },
    "kernelspec": {
      "name": "python3",
      "display_name": "Python 3"
    },
    "language_info": {
      "name": "python"
    }
  },
  "cells": [
    {
      "cell_type": "markdown",
      "metadata": {
        "id": "view-in-github",
        "colab_type": "text"
      },
      "source": [
        "<a href=\"https://colab.research.google.com/github/FUF1/naw-omr/blob/main/OMR-True-False-Recognition%20successfull.ipynb\" target=\"_parent\"><img src=\"https://colab.research.google.com/assets/colab-badge.svg\" alt=\"Open In Colab\"/></a>"
      ]
    },
    {
      "cell_type": "code",
      "metadata": {
        "id": "HXTKo_IEI0Ja"
      },
      "source": [
        "import requests as req\n",
        "from PIL import Image"
      ],
      "execution_count": 116,
      "outputs": []
    },
    {
      "cell_type": "code",
      "metadata": {
        "colab": {
          "base_uri": "https://localhost:8080/",
          "height": 929
        },
        "id": "ntjT7rdELs2N",
        "outputId": "fe8c113a-2c78-4a03-a5a5-8080b660b47d"
      },
      "source": [
        "from google.colab import drive\n",
        "drive.mount('/gdrive')\n",
        "%cd /gdrive"
      ],
      "execution_count": 121,
      "outputs": [
        {
          "output_type": "stream",
          "name": "stderr",
          "text": [
            "ERROR:root:Internal Python error in the inspect module.\n",
            "Below is the traceback from this internal error.\n",
            "\n"
          ]
        },
        {
          "output_type": "stream",
          "name": "stdout",
          "text": [
            "Mounted at /gdrive\n",
            "Traceback (most recent call last):\n",
            "  File \"/usr/local/lib/python3.7/dist-packages/IPython/core/interactiveshell.py\", line 2882, in run_code\n",
            "    exec(code_obj, self.user_global_ns, self.user_ns)\n",
            "  File \"<ipython-input-121-cd0a7580851e>\", line 3, in <module>\n",
            "    get_ipython().magic('cd /gdrive')\n",
            "  File \"/usr/local/lib/python3.7/dist-packages/IPython/core/interactiveshell.py\", line 2160, in magic\n",
            "    return self.run_line_magic(magic_name, magic_arg_s)\n",
            "  File \"/usr/local/lib/python3.7/dist-packages/IPython/core/interactiveshell.py\", line 2081, in run_line_magic\n",
            "    result = fn(*args,**kwargs)\n",
            "  File \"<decorator-gen-84>\", line 2, in cd\n",
            "  File \"/usr/local/lib/python3.7/dist-packages/IPython/core/magic.py\", line 188, in <lambda>\n",
            "    call = lambda f, *a, **k: f(*a, **k)\n",
            "  File \"/usr/local/lib/python3.7/dist-packages/IPython/core/magics/osm.py\", line 288, in cd\n",
            "    oldcwd = py3compat.getcwd()\n",
            "OSError: [Errno 107] Transport endpoint is not connected\n",
            "\n",
            "During handling of the above exception, another exception occurred:\n",
            "\n",
            "Traceback (most recent call last):\n",
            "  File \"/usr/local/lib/python3.7/dist-packages/IPython/core/interactiveshell.py\", line 1823, in showtraceback\n",
            "    stb = value._render_traceback_()\n",
            "AttributeError: 'OSError' object has no attribute '_render_traceback_'\n",
            "\n",
            "During handling of the above exception, another exception occurred:\n",
            "\n",
            "Traceback (most recent call last):\n",
            "  File \"/usr/local/lib/python3.7/dist-packages/IPython/core/ultratb.py\", line 1132, in get_records\n",
            "    return _fixed_getinnerframes(etb, number_of_lines_of_context, tb_offset)\n",
            "  File \"/usr/local/lib/python3.7/dist-packages/IPython/core/ultratb.py\", line 313, in wrapped\n",
            "    return f(*args, **kwargs)\n",
            "  File \"/usr/local/lib/python3.7/dist-packages/IPython/core/ultratb.py\", line 358, in _fixed_getinnerframes\n",
            "    records = fix_frame_records_filenames(inspect.getinnerframes(etb, context))\n",
            "  File \"/usr/lib/python3.7/inspect.py\", line 1502, in getinnerframes\n",
            "    frameinfo = (tb.tb_frame,) + getframeinfo(tb, context)\n",
            "  File \"/usr/lib/python3.7/inspect.py\", line 1460, in getframeinfo\n",
            "    filename = getsourcefile(frame) or getfile(frame)\n",
            "  File \"/usr/lib/python3.7/inspect.py\", line 696, in getsourcefile\n",
            "    if getattr(getmodule(object, filename), '__loader__', None) is not None:\n",
            "  File \"/usr/lib/python3.7/inspect.py\", line 725, in getmodule\n",
            "    file = getabsfile(object, _filename)\n",
            "  File \"/usr/lib/python3.7/inspect.py\", line 709, in getabsfile\n",
            "    return os.path.normcase(os.path.abspath(_filename))\n",
            "  File \"/usr/lib/python3.7/posixpath.py\", line 383, in abspath\n",
            "    cwd = os.getcwd()\n",
            "OSError: [Errno 107] Transport endpoint is not connected\n"
          ]
        },
        {
          "output_type": "error",
          "ename": "OSError",
          "evalue": "ignored",
          "traceback": [
            "\u001b[0;31m---------------------------------------------------------------------------\u001b[0m"
          ]
        }
      ]
    },
    {
      "cell_type": "code",
      "metadata": {
        "id": "Y2WJrlsUPH_f"
      },
      "source": [
        "img = \"/gdrive/MyDrive/RescueOMR_NAW-Test/Random_Einzelseiten/TESTKOPIE_L105_NAW-1_komplett_Page_001.png\""
      ],
      "execution_count": 122,
      "outputs": []
    },
    {
      "cell_type": "code",
      "metadata": {
        "colab": {
          "base_uri": "https://localhost:8080/"
        },
        "id": "33z3BlVnNeGJ",
        "outputId": "bf2bb51b-3dcd-48d4-82e4-e9f4919ced5e"
      },
      "source": [
        "!pip install boxdetect\n",
        "from boxdetect import config"
      ],
      "execution_count": 123,
      "outputs": [
        {
          "output_type": "stream",
          "name": "stdout",
          "text": [
            "shell-init: error retrieving current directory: getcwd: cannot access parent directories: Transport endpoint is not connected\n",
            "shell-init: error retrieving current directory: getcwd: cannot access parent directories: Transport endpoint is not connected\n",
            "The folder you are executing pip from can no longer be found.\n"
          ]
        }
      ]
    },
    {
      "cell_type": "code",
      "metadata": {
        "id": "b_6gtxrwP98s"
      },
      "source": [
        "import matplotlib.pyplot as plt"
      ],
      "execution_count": 124,
      "outputs": []
    },
    {
      "cell_type": "code",
      "metadata": {
        "id": "zH5YCuLHN3AV"
      },
      "source": [
        "cfg = config.PipelinesConfig()\n",
        "# important to adjust these values to match the size of boxes on your image\n",
        "cfg.width_range = (21,28)\n",
        "cfg.height_range = (21,28)\n",
        "\n",
        "# the more scaling factors the more accurate the results but also it takes more time to processing\n",
        "# too small scaling factor may cause false positives\n",
        "# too big scaling factor will take a lot of processing time\n",
        "cfg.scaling_factors = [0.7]\n",
        "\n",
        "# w/h ratio range for boxes/rectangles filtering\n",
        "cfg.wh_ratio_range = (0.8, 1.2)\n",
        "\n",
        "# group_size_range starting from 2 will skip all the groups\n",
        "# with a single box detected inside (like checkboxes)\n",
        "cfg.group_size_range = (1, 1)\n",
        "\n",
        "# num of iterations when running dilation tranformation (to engance the image)\n",
        "cfg.dilation_iterations = 0"
      ],
      "execution_count": 125,
      "outputs": []
    },
    {
      "cell_type": "code",
      "metadata": {
        "id": "4tvqz2IJOAiM"
      },
      "source": [
        "from boxdetect.pipelines import get_checkboxes\n",
        "\n",
        "checkboxes = get_checkboxes(\n",
        "    img, cfg=cfg, px_threshold=0.4, plot=False, verbose=True) #px_threshold=0.1"
      ],
      "execution_count": null,
      "outputs": []
    },
    {
      "cell_type": "code",
      "metadata": {
        "id": "VUVSgm0NQcZy"
      },
      "source": [
        "print(checkboxes)"
      ],
      "execution_count": null,
      "outputs": []
    },
    {
      "cell_type": "code",
      "metadata": {
        "colab": {
          "base_uri": "https://localhost:8080/",
          "height": 728
        },
        "id": "BXxCBhWWSyES",
        "outputId": "60afa7bf-3ac4-4bb0-ee15-527eb999abc2"
      },
      "source": [
        "print(\"Output object type: \", type(checkboxes))\n",
        "for checkbox in checkboxes:\n",
        "    print(\"Checkbox bounding rectangle (x,y,width,height): \", checkbox[0])\n",
        "    print(\"Result of `contains_pixels` for the checkbox: \", checkbox[1])\n",
        "    print(\"Display the cropout of checkbox:\")\n",
        "    plt.figure(figsize=(1,1))\n",
        "    plt.imshow(checkbox[2])\n",
        "    plt.show()"
      ],
      "execution_count": 132,
      "outputs": [
        {
          "output_type": "stream",
          "name": "stdout",
          "text": [
            "Output object type:  <class 'numpy.ndarray'>\n",
            "Checkbox bounding rectangle (x,y,width,height):  (688, 928, 26, 23)\n",
            "Result of `contains_pixels` for the checkbox:  True\n",
            "Display the cropout of checkbox:\n"
          ]
        },
        {
          "output_type": "display_data",
          "data": {
            "image/png": "[encoded data removed]",
            "text/plain": [
              "<Figure size 72x72 with 1 Axes>"
            ]
          },
          "metadata": {
            "needs_background": "light"
          }
        },
        {
          "output_type": "stream",
          "name": "stdout",
          "text": [
            "Checkbox bounding rectangle (x,y,width,height):  (688, 962, 24, 25)\n",
            "Result of `contains_pixels` for the checkbox:  False\n",
            "Display the cropout of checkbox:\n"
          ]
        },
        {
          "output_type": "display_data",
          "data": {
            "image/png": "[encoded data removed]",
            "text/plain": [
              "<Figure size 72x72 with 1 Axes>"
            ]
          },
          "metadata": {
            "needs_background": "light"
          }
        },
        {
          "output_type": "stream",
          "name": "stdout",
          "text": [
            "Checkbox bounding rectangle (x,y,width,height):  (688, 997, 24, 24)\n",
            "Result of `contains_pixels` for the checkbox:  False\n",
            "Display the cropout of checkbox:\n"
          ]
        },
        {
          "output_type": "display_data",
          "data": {
            "image/png": "[encoded data removed]",
            "text/plain": [
              "<Figure size 72x72 with 1 Axes>"
            ]
          },
          "metadata": {
            "needs_background": "light"
          }
        },
        {
          "output_type": "stream",
          "name": "stdout",
          "text": [
            "Checkbox bounding rectangle (x,y,width,height):  (689, 1032, 23, 24)\n",
            "Result of `contains_pixels` for the checkbox:  True\n",
            "Display the cropout of checkbox:\n"
          ]
        },
        {
          "output_type": "display_data",
          "data": {
            "image/png": "[encoded data removed]",
            "text/plain": [
              "<Figure size 72x72 with 1 Axes>"
            ]
          },
          "metadata": {
            "needs_background": "light"
          }
        },
        {
          "output_type": "stream",
          "name": "stdout",
          "text": [
            "Checkbox bounding rectangle (x,y,width,height):  (689, 1065, 23, 25)\n",
            "Result of `contains_pixels` for the checkbox:  False\n",
            "Display the cropout of checkbox:\n"
          ]
        },
        {
          "output_type": "display_data",
          "data": {
            "image/png": "[encoded data removed]",
            "text/plain": [
              "<Figure size 72x72 with 1 Axes>"
            ]
          },
          "metadata": {
            "needs_background": "light"
          }
        }
      ]
    }
  ]
}