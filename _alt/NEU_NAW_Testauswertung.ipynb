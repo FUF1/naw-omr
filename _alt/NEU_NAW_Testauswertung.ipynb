{
  "nbformat": 4,
  "nbformat_minor": 0,
  "metadata": {
    "colab": {
      "name": "NEU_NAW-Testauswertung.ipynb",
      "provenance": [],
      "collapsed_sections": [],
      "mount_file_id": "1IznAmE2Qf7X5VCKEFtHpfRqeCdwrRJ7V",
      "authorship_tag": "ABX9TyPvgnSTapUBmu0YkSoBpS7W",
      "include_colab_link": true
    },
    "kernelspec": {
      "name": "python3",
      "display_name": "Python 3"
    },
    "language_info": {
      "name": "python"
    }
  },
  "cells": [
    {
      "cell_type": "markdown",
      "metadata": {
        "id": "view-in-github",
        "colab_type": "text"
      },
      "source": [
        "<a href=\"https://colab.research.google.com/github/FUF1/naw-omr/blob/main/NEU_NAW_Testauswertung.ipynb\" target=\"_parent\"><img src=\"https://colab.research.google.com/assets/colab-badge.svg\" alt=\"Open In Colab\"/></a>"
      ]
    },
    {
      "cell_type": "code",
      "metadata": {
        "id": "HXTKo_IEI0Ja"
      },
      "source": [
        "import requests as req\n",
        "from PIL import Image"
      ],
      "execution_count": 1,
      "outputs": []
    },
    {
      "cell_type": "code",
      "metadata": {
        "id": "ntjT7rdELs2N"
      },
      "source": [
        "from google.colab import drive\n",
        "drive.mount('/gdrive')\n",
        "%cd /gdrive"
      ],
      "execution_count": null,
      "outputs": []
    },
    {
      "cell_type": "markdown",
      "source": [
        "PDF to image"
      ],
      "metadata": {
        "id": "jb4BAFvVXK4N"
      }
    },
    {
      "cell_type": "code",
      "source": [
        "pdf_file = \"/gdrive/MyDrive/RescueOMR_NAW-Test/\""
      ],
      "metadata": {
        "id": "F93zh170XChy"
      },
      "execution_count": 3,
      "outputs": []
    },
    {
      "cell_type": "code",
      "source": [
        "!pip install PyMuPDF"
      ],
      "metadata": {
        "id": "NdqqhUDDaBKj"
      },
      "execution_count": null,
      "outputs": []
    },
    {
      "cell_type": "markdown",
      "source": [
        "**# !! ZUERST NOCH PDFS IN SETS AN 19 SEITEN MIT KORREKTER FILEBENENNUNG KONVERTIEREN (!MIT EXTERNEM SKRIPT!)**"
      ],
      "metadata": {
        "id": "srTAoRdbi2F_"
      }
    },
    {
      "cell_type": "code",
      "source": [
        "# wird alles für PyMuPDF benötigt\n",
        "import glob, sys, fitz\n",
        "\n",
        "# To get better resolution\n",
        "zoom_x = 2.0  # horizontal zoom\n",
        "zoom_y = 2.0  # vertical zoom\n",
        "mat = fitz.Matrix(zoom_x, zoom_y)  # zoom factor 2 in each dimension\n",
        "\n",
        "path = pdf_file\n",
        "all_files = glob.glob(path + \"*.pdf\")\n",
        "\n",
        "for filename in all_files:\n",
        "    doc = fitz.open(filename)  # open document\n",
        "    filename_shortened = filename.replace(\"_komplett.pdf\",\"\") # anzupassen für Production\n",
        "    filename_shortened = filename_shortened.replace(\"/gdrive/MyDrive/RescueOMR_NAW-Test/TESTKOPIE_\",\"\") # anzupassen für Production\n",
        "##   # CREATE HERE DIRECTORY FOR SCHUELER SUBFOLDER OF STUDENT\n",
        "    dir_name = filename_shortened\n",
        "    #create directory command\n",
        "##    os.makedirs(path+dir_name, exist_ok=False) # only create if not existing? unten bei save image Pfad anpassen!\n",
        "    print(\"Number of Pages: {}\".format(doc.page_count))\n",
        "    # CREATE EXCEPTION WITH CONTINUATION WHEN NOT 19 PAGES IN DOCUMENT\n",
        "    for page in doc:  # iterate through the pages\n",
        "        pix = page.get_pixmap(matrix=mat)  # render page to an image\n",
        "        pix.save(\"/gdrive/MyDrive/RescueOMR_NAW-Test/PyMuPDF/{}_page-{}.png\".format(filename_shortened, page.number+1))  # store image as a PNG"
      ],
      "metadata": {
        "id": "74SB-xXVbXpR"
      },
      "execution_count": null,
      "outputs": []
    },
    {
      "cell_type": "markdown",
      "source": [
        "Boxdetect"
      ],
      "metadata": {
        "id": "2Xd_pSyHXH5h"
      }
    },
    {
      "cell_type": "code",
      "metadata": {
        "id": "33z3BlVnNeGJ",
        "colab": {
          "base_uri": "https://localhost:8080/"
        },
        "outputId": "a65607b5-49c7-444e-9248-312aac86b53b"
      },
      "source": [
        "!pip install boxdetect\n",
        "from boxdetect import config"
      ],
      "execution_count": 272,
      "outputs": [
        {
          "output_type": "stream",
          "name": "stdout",
          "text": [
            "Requirement already satisfied: boxdetect in /usr/local/lib/python3.7/dist-packages (1.0.0)\n",
            "Requirement already satisfied: opencv-python in /usr/local/lib/python3.7/dist-packages (from boxdetect) (4.1.2.30)\n",
            "Requirement already satisfied: numpy in /usr/local/lib/python3.7/dist-packages (from boxdetect) (1.19.5)\n",
            "Requirement already satisfied: imutils in /usr/local/lib/python3.7/dist-packages (from boxdetect) (0.5.4)\n",
            "Requirement already satisfied: sklearn in /usr/local/lib/python3.7/dist-packages (from boxdetect) (0.0)\n",
            "Requirement already satisfied: pyyaml in /usr/local/lib/python3.7/dist-packages (from boxdetect) (3.13)\n",
            "Requirement already satisfied: scikit-learn in /usr/local/lib/python3.7/dist-packages (from sklearn->boxdetect) (1.0.1)\n",
            "Requirement already satisfied: threadpoolctl>=2.0.0 in /usr/local/lib/python3.7/dist-packages (from scikit-learn->sklearn->boxdetect) (3.0.0)\n",
            "Requirement already satisfied: scipy>=1.1.0 in /usr/local/lib/python3.7/dist-packages (from scikit-learn->sklearn->boxdetect) (1.4.1)\n",
            "Requirement already satisfied: joblib>=0.11 in /usr/local/lib/python3.7/dist-packages (from scikit-learn->sklearn->boxdetect) (1.1.0)\n"
          ]
        }
      ]
    },
    {
      "cell_type": "code",
      "metadata": {
        "id": "b_6gtxrwP98s"
      },
      "source": [
        "import matplotlib.pyplot as plt"
      ],
      "execution_count": 273,
      "outputs": []
    },
    {
      "cell_type": "code",
      "metadata": {
        "id": "zH5YCuLHN3AV"
      },
      "source": [
        "cfg = config.PipelinesConfig()\n",
        "# important to adjust these values to match the size of boxes on your image\n",
        "cfg.width_range = (25,38) #(18,30)\n",
        "cfg.height_range = (25,38) #(18,30)\n",
        "\n",
        "# the more scaling factors the more accurate the results but also it takes more time to processing\n",
        "# too small scaling factor may cause false positives\n",
        "# too big scaling factor will take a lot of processing time\n",
        "cfg.scaling_factors = [0.5] # 0.7\n",
        "\n",
        "# w/h ratio range for boxes/rectangles filtering\n",
        "cfg.wh_ratio_range = (0.8, 1.2) #(0.8, 1.2)\n",
        "\n",
        "# group_size_range starting from 2 will skip all the groups\n",
        "# with a single box detected inside (like checkboxes)\n",
        "cfg.group_size_range = (1, 1)\n",
        "\n",
        "# num of iterations when running dilation tranformation (to engance the image)\n",
        "cfg.dilation_iterations = 0"
      ],
      "execution_count": 274,
      "outputs": []
    },
    {
      "cell_type": "code",
      "source": [
        "# load image ## MAKE DYNAMIC FOR PRODUCTION - LOOP THROUGH DIRECTORY - create list!\n",
        "img = \"/gdrive/MyDrive/RescueOMR_NAW-Test/PyMuPDF/L105_NAW-1_page-3.png\""
      ],
      "metadata": {
        "id": "Jxi74wz6h_wU"
      },
      "execution_count": 275,
      "outputs": []
    },
    {
      "cell_type": "code",
      "source": [
        "# hier setzen: coordinate value-sets für einzelne Seiten als Test! Raise error if not\n",
        "#not really needed when list length used #cb_numb_per_page = [5,0,4,4,4,4,4,4,4,4,4,4,4,4,4,4,4,4,4] #number of checkboxes per page, starting from page 1 (coverpage)\n",
        "\n",
        "safety_border = 50 #20\n",
        "\n",
        "coord_page_1 = [[1006, 1353],\n",
        "                [1006, 1403],\n",
        "                [1006, 1453],\n",
        "                [1006, 1503],\n",
        "                [1006, 1552]] #coordinates are CENTERS of checkboxes; example for 3 checkboxes; safety-border (ca. 20px) gets added dynamically when checking occurs\n",
        "coord_page_2 = [[]] #page 2 in document is empty!\n",
        "coord_page_3 = [[123, 473],\n",
        "                [123, 739],\n",
        "                [123, 1039],\n",
        "                [123, 1315]] #4 checkboxes\n",
        "coord_page_4 = [[201, 555],\n",
        "                [720, 555],\n",
        "                [201, 1017],\n",
        "                [729, 1017]] #4 checkboxes\n",
        "coord_page_5 = [[132, 1095],\n",
        "                [132, 1173],\n",
        "                [132, 1251],\n",
        "                [132, 1325]] #4 checkboxes\n",
        "coord_page_6 = [[198, 1017],\n",
        "                [198, 1117],\n",
        "                [198, 1210],\n",
        "                [198, 1316]] #4 checkboxes\n",
        "coord_page_7 = [[139, 459],\n",
        "                [139, 681],\n",
        "                [139, 898],\n",
        "                [139, 1138]] #4 checkboxes\n",
        "coord_page_8 = [[190, 452],\n",
        "                [190, 689],\n",
        "                [190, 924],\n",
        "                [190, 1151]] #4 checkboxes\n",
        "coord_page_9 = [[136, 1082],\n",
        "                [136, 1185],\n",
        "                [136, 1288],\n",
        "                [136, 1392]] #4 checkboxes\n",
        "coord_page_10 = [[186, 450],\n",
        "                 [186, 680],\n",
        "                 [186, 922],\n",
        "                 [186, 1164]] #4 checkboxes\n",
        "coord_page_11 = [[131, 1082],\n",
        "                 [131, 1186],\n",
        "                 [131, 1289],\n",
        "                 [131, 1392]] #4 checkboxes\n",
        "coord_page_12 = [[186, 454],\n",
        "                 [186, 691],\n",
        "                 [186, 925],\n",
        "                 [186, 1153]] #4 checkboxes\n",
        "coord_page_13 = [[342, 597],\n",
        "                 [342, 780],\n",
        "                 [342, 963],\n",
        "                 [342, 1145]] #4 checkboxes\n",
        "coord_page_14 = [[187, 1168],\n",
        "                 [187, 1263],\n",
        "                 [187, 1359],\n",
        "                 [187, 1453]] #4 checkboxes\n",
        "coord_page_15 = [[155, 712],\n",
        "                 [155, 874],\n",
        "                 [155, 1035],\n",
        "                 [155, 1196]] #4 checkboxes\n",
        "coord_page_16 = [[253, 705],\n",
        "                 [253, 869],\n",
        "                 [253, 1034],\n",
        "                 [253, 1204]] #4 checkboxes\n",
        "coord_page_17 = [[114, 976],\n",
        "                 [114, 1070],\n",
        "                 [114, 1166],\n",
        "                 [114, 1261]] #4 checkboxes\n",
        "coord_page_18 = [[217, 797],\n",
        "                 [217, 900],\n",
        "                 [217, 1004],\n",
        "                 [217, 1108]] #4 checkboxes\n",
        "coord_page_19 = [[294, 771],\n",
        "                 [294, 954],\n",
        "                 [294, 1136],\n",
        "                 [294, 1319]] #4 checkboxes"
      ],
      "metadata": {
        "id": "dOIuZp8vji86"
      },
      "execution_count": 276,
      "outputs": []
    },
    {
      "cell_type": "code",
      "metadata": {
        "id": "4tvqz2IJOAiM",
        "colab": {
          "base_uri": "https://localhost:8080/"
        },
        "outputId": "62de5c24-69eb-413f-8ede-b163353b829d"
      },
      "source": [
        "from boxdetect.pipelines import get_checkboxes\n",
        "\n",
        "checkboxes = get_checkboxes(\n",
        "    img, cfg=cfg, px_threshold=0.3, plot=False, verbose=True) #px_threshold=0.6"
      ],
      "execution_count": 277,
      "outputs": [
        {
          "output_type": "stream",
          "name": "stdout",
          "text": [
            "Processing file:  /gdrive/MyDrive/RescueOMR_NAW-Test/PyMuPDF/L105_NAW-1_page-3.png\n",
            "----------------------------------\n",
            "nonzero_px_count:  140\n",
            "all_px_count:  624\n",
            "nonzero_px_count / all_px_count =  0.22435897435897437\n",
            "----------------------------------\n",
            "----------------------------------\n",
            "nonzero_px_count:  134\n",
            "all_px_count:  624\n",
            "nonzero_px_count / all_px_count =  0.21474358974358973\n",
            "----------------------------------\n",
            "----------------------------------\n",
            "nonzero_px_count:  295\n",
            "all_px_count:  576\n",
            "nonzero_px_count / all_px_count =  0.5121527777777778\n",
            "----------------------------------\n",
            "----------------------------------\n",
            "nonzero_px_count:  93\n",
            "all_px_count:  576\n",
            "nonzero_px_count / all_px_count =  0.16145833333333334\n",
            "----------------------------------\n"
          ]
        },
        {
          "output_type": "stream",
          "name": "stderr",
          "text": [
            "/usr/local/lib/python3.7/dist-packages/numpy/core/_asarray.py:83: VisibleDeprecationWarning: Creating an ndarray from ragged nested sequences (which is a list-or-tuple of lists-or-tuples-or ndarrays with different lengths or shapes) is deprecated. If you meant to do this, you must specify 'dtype=object' when creating the ndarray\n",
            "  return array(a, dtype, copy=False, order=order)\n",
            "\n"
          ]
        }
      ]
    },
    {
      "cell_type": "code",
      "metadata": {
        "colab": {
          "base_uri": "https://localhost:8080/",
          "height": 595
        },
        "id": "BXxCBhWWSyES",
        "outputId": "96f44673-2b7f-4a48-ce22-4b2324be8d18"
      },
      "source": [
        "print(\"Output object type: \", type(checkboxes))\n",
        "for checkbox in checkboxes:\n",
        "    print(\"Checkbox bounding rectangle (x,y,width,height): \", checkbox[0])\n",
        "    print(\"Result of `contains_pixels` for the checkbox: \", checkbox[1])\n",
        "    print(\"Display the cropout of checkbox:\")\n",
        "    plt.figure(figsize=(1,1))\n",
        "    plt.imshow(checkbox[2])\n",
        "    plt.show()"
      ],
      "execution_count": 278,
      "outputs": [
        {
          "output_type": "stream",
          "name": "stdout",
          "text": [
            "Output object type:  <class 'numpy.ndarray'>\n",
            "Checkbox bounding rectangle (x,y,width,height):  (108, 456, 34, 36)\n",
            "Result of `contains_pixels` for the checkbox:  False\n",
            "Display the cropout of checkbox:\n"
          ]
        },
        {
          "output_type": "display_data",
          "data": {
            "image/png": "[encoded data removed]",
            "text/plain": [
              "<Figure size 72x72 with 1 Axes>"
            ]
          },
          "metadata": {
            "needs_background": "light"
          }
        },
        {
          "output_type": "stream",
          "name": "stdout",
          "text": [
            "Checkbox bounding rectangle (x,y,width,height):  (110, 722, 34, 36)\n",
            "Result of `contains_pixels` for the checkbox:  False\n",
            "Display the cropout of checkbox:\n"
          ]
        },
        {
          "output_type": "display_data",
          "data": {
            "image/png": "[encoded data removed]",
            "text/plain": [
              "<Figure size 72x72 with 1 Axes>"
            ]
          },
          "metadata": {
            "needs_background": "light"
          }
        },
        {
          "output_type": "stream",
          "name": "stdout",
          "text": [
            "Checkbox bounding rectangle (x,y,width,height):  (104, 1024, 34, 34)\n",
            "Result of `contains_pixels` for the checkbox:  True\n",
            "Display the cropout of checkbox:\n"
          ]
        },
        {
          "output_type": "display_data",
          "data": {
            "image/png": "[encoded data removed]",
            "text/plain": [
              "<Figure size 72x72 with 1 Axes>"
            ]
          },
          "metadata": {
            "needs_background": "light"
          }
        },
        {
          "output_type": "stream",
          "name": "stdout",
          "text": [
            "Checkbox bounding rectangle (x,y,width,height):  (102, 1298, 34, 34)\n",
            "Result of `contains_pixels` for the checkbox:  False\n",
            "Display the cropout of checkbox:\n"
          ]
        },
        {
          "output_type": "display_data",
          "data": {
            "image/png": "[encoded data removed]",
            "text/plain": [
              "<Figure size 72x72 with 1 Axes>"
            ]
          },
          "metadata": {
            "needs_background": "light"
          }
        }
      ]
    },
    {
      "cell_type": "code",
      "source": [
        "# IMPLEMENT HERE: (\"Result of `contains_pixels` for the checkbox: \", checkbox[1]) (TRUE-FALSE) TO CSV-List\n",
        "\n",
        "box_shift = 50 #shift-value for checkbox drawing for screening\n",
        "\n",
        "#detect page from filename\n",
        "import re #needed for regex in filename\n",
        "page_detected = re.findall(\"page-[0-9]+\",img) #isolate e.g. \"page-1\"\n",
        "page_detected = re.findall(\"[0-9]+\", page_detected[0]) #isolate number from e.g. \"page-1\" = \"1\"\n",
        "\n",
        "for checkbox in checkboxes:\n",
        "  cb_values = checkbox[0] #export list from checkbox-nd.array\n",
        "  cb_xmin = cb_values[0] #x=width-axis\n",
        "  cb_xmax = cb_values[0]+cb_values[2]\n",
        "  cb_ymin = cb_values[1] #y=height-axis\n",
        "  cb_ymax = cb_values[1]+cb_values[3]\n",
        "  #print(cb_xmin, \" - \", cb_xmax, \" - \",cb_ymin, \" - \",cb_ymax, \" - \",) # only for debugging\n",
        "  \n",
        "  #MAKE CHECK IF CHECKBOX TWICE ON SAME COORDINATE AND IF A COORDINATE WITHOUT CHECKBOX EXISTS # WRITE ERROR CODES TO IMG AS RED TEXT!\n",
        "  coord_page = \"coord_page_{}\".format(page_detected[0]) #\n",
        "  print(coord_page)\n",
        "\n",
        "  for i in eval(coord_page): # eval() is used to select variable based on string\n",
        "    #TRY: CREATE ERROR HANDLER?\n",
        "    print(\"Position {}: \".format(i), end=\"\")\n",
        "    if cb_xmin > i[0]-safety_border and cb_xmax < i[0]+safety_border and cb_ymin > i[1]-safety_border and cb_ymax < i[1]+safety_border:\n",
        "      print(\"checkbox found, with value={}\".format(checkbox[1])) #CREATE HERE INPUT TO CSV WITH TRUE/1 AND COMMA ++ DRAW Checkbox an value to COPY of image (subdirectory)\n",
        "      if checkbox[1] == True:\n",
        "        cv2.rectangle(img_annot, (cb_xmin-box_shift, cb_ymin), (cb_xmax-box_shift, cb_ymax), (255, 0, 0), -1)\n",
        "        #cv2.rectangle(img_annot, (50, 50), (100, 100), (0, 255, 0), -1)\n",
        "      elif checkbox[1] == False:\n",
        "        cv2.rectangle(img_annot, (cb_xmin-box_shift, cb_ymin), (cb_xmax-box_shift, cb_ymax), (255, 0, 0), 2)\n",
        "        #cv2.rectangle(img_annot, (50, 50), (100, 100), (0, 255, 0))\n",
        "    else:\n",
        "      print(\"not found\") #CREATE HERE INPUT TO CSV WITH FALSE/0 AND COMMA\n",
        "  print(\"--------\") # NEW ROW IN CSV?\n",
        "  "
      ],
      "metadata": {
        "id": "dg3jRln2knRC"
      },
      "execution_count": null,
      "outputs": []
    },
    {
      "cell_type": "code",
      "source": [
        "cv2_imshow(img_annot)\n",
        "# SAVE IMAGE WITH NEW NAME"
      ],
      "metadata": {
        "id": "zXTcFivgFJlY"
      },
      "execution_count": null,
      "outputs": []
    }
  ]
}